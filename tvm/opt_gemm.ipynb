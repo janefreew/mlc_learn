{
  "cells": [
    {
      "cell_type": "code",
      "execution_count": null,
      "metadata": {
        "collapsed": false
      },
      "outputs": [],
      "source": [
        "%%shell\n",
        "# Installs the latest dev build of TVM from PyPI. If you wish to build\n",
        "# from source, see https://tvm.apache.org/docs/install/from_source.html\n",
        "pip install apache-tvm --pre"
      ]
    },
    {
      "cell_type": "markdown",
      "metadata": {},
      "source": [
        "\n",
        "\n",
        "# How to optimize GEMM on CPU\n",
        "**Author**: [Jian Weng](https://github.com/were),             [Ruofei Yu](https://github.com/yuruofeifei)\n",
        "\n",
        "(TL;DR) TVM provides abstract interfaces which allows users to depict an algorithm and the\n",
        "algorithm's implementing organization (the so-called schedule) separately. Typically, writing\n",
        "algorithm in high-performance schedule breaks the algorithm's readability and modularity. Also,\n",
        "trying various seemingly promising schedules is time-consuming. With the help of TVM, we can\n",
        "try these schedules efficiently to enhance the performance.\n",
        "\n",
        "In this tutorial, we will demonstrate how to use TVM to optimize square matrix multiplication\n",
        "and achieve 200 times faster than baseline by simply adding 18 extra lines of code.\n",
        "\n",
        "There are two important optimizations on intense computation applications executed on CPU:\n",
        "    1. Increase the cache hit rate of memory access. Both complex numerical computation and hot-spot\n",
        "       memory access can be accelerated from high cache hit rate. This requires us to transform the\n",
        "       origin memory access pattern to the pattern fits the cache policy.\n",
        "    2. SIMD (Single instruction multi-data), or we call it vector processing unit. Every time, a\n",
        "       small batch of data, rather than a single grid, will be processed. This requires us to\n",
        "       transform the data access pattern in the loop body in uniform pattern so that the LLVM\n",
        "       backend can lower it to SIMD.\n",
        "\n",
        "Actually, all the methodologies used in this tutorial is a subset of tricks mentioned in this\n",
        "[repo](https://github.com/flame/how-to-optimize-gemm). Some of them have been applied by TVM\n",
        "abstraction automatically, but some of them cannot be simply applied due to TVM constraints.\n",
        "\n",
        "All the experiment results mentioned below, are executed on 2015's 15' MacBook equipped with\n",
        "Intel i7-4770HQ CPU. The cache line size should be 64 bytes for all the x86 CPUs.\n"
      ]
    },
    {
      "cell_type": "markdown",
      "metadata": {},
      "source": [
        "## Preparation and Baseline\n",
        "In this tutorial, we will demo how to use TVM to optimize matrix multiplication.\n",
        "Before actually demonstrating, we first define these variables.\n",
        "Then we write a baseline implementation, the simplest way to write a matrix multiplication in TVM.\n",
        "\n"
      ]
    },
    {
      "cell_type": "code",
      "execution_count": 1,
      "metadata": {
        "collapsed": false
      },
      "outputs": [
        {
          "name": "stdout",
          "output_type": "stream",
          "text": [
            "Numpy running time: 0.010976\n",
            "Baseline: 3.372496\n"
          ]
        }
      ],
      "source": [
        "import tvm\n",
        "import tvm.testing\n",
        "from tvm import te\n",
        "import numpy\n",
        "import timeit\n",
        "\n",
        "# The size of the matrix\n",
        "# (M, K) x (K, N)\n",
        "# You are free to try out different shapes, sometimes TVM optimization outperforms numpy with MKL.\n",
        "M = 1024\n",
        "K = 1024\n",
        "N = 1024\n",
        "\n",
        "# The default tensor type in tvm\n",
        "dtype = \"float32\"\n",
        "\n",
        "# using Intel AVX2(Advanced Vector Extensions) ISA for SIMD\n",
        "# To get the best performance, please change the following line\n",
        "# to llvm -mcpu=core-avx2, or specific type of CPU you use\n",
        "target = \"llvm\"\n",
        "dev = tvm.device(target, 0)\n",
        "\n",
        "# Random generated tensor for testing\n",
        "a = tvm.nd.array(numpy.random.rand(M, K).astype(dtype), dev)\n",
        "b = tvm.nd.array(numpy.random.rand(K, N).astype(dtype), dev)\n",
        "\n",
        "np_repeat = 100\n",
        "np_runing_time = timeit.timeit(\n",
        "    setup=\"import numpy\\n\"\n",
        "    \"M = \" + str(M) + \"\\n\"\n",
        "    \"K = \" + str(K) + \"\\n\"\n",
        "    \"N = \" + str(N) + \"\\n\"\n",
        "    'dtype = \"float32\"\\n'\n",
        "    \"a = numpy.random.rand(M, K).astype(dtype)\\n\"\n",
        "    \"b = numpy.random.rand(K, N).astype(dtype)\\n\",\n",
        "    stmt=\"answer = numpy.dot(a, b)\",\n",
        "    number=np_repeat,\n",
        ")\n",
        "print(\"Numpy running time: %f\" % (np_runing_time / np_repeat))\n",
        "\n",
        "answer = numpy.dot(a.numpy(), b.numpy())\n",
        "\n",
        "# Algorithm\n",
        "k = te.reduce_axis((0, K), \"k\")\n",
        "A = te.placeholder((M, K), name=\"A\")\n",
        "B = te.placeholder((K, N), name=\"B\")\n",
        "C = te.compute((M, N), lambda m, n: te.sum(A[m, k] * B[k, n], axis=k), name=\"C\")\n",
        "\n",
        "# Default schedule\n",
        "s = te.create_schedule(C.op)\n",
        "func = tvm.build(s, [A, B, C], target=target, name=\"mmult\")\n",
        "assert func\n",
        "\n",
        "c = tvm.nd.array(numpy.zeros((M, N), dtype=dtype), dev)\n",
        "func(a, b, c)\n",
        "tvm.testing.assert_allclose(c.numpy(), answer, rtol=1e-5)\n",
        "\n",
        "evaluator = func.time_evaluator(func.entry_name, dev, number=1)\n",
        "print(\"Baseline: %f\" % evaluator(a, b, c).mean)"
      ]
    },
    {
      "cell_type": "markdown",
      "metadata": {},
      "source": [
        "In TVM, we can always inspect lower level IR to debug or optimize our schedule.\n",
        "Here is the generated IR using our baseline schedule.\n",
        "\n"
      ]
    },
    {
      "cell_type": "code",
      "execution_count": 2,
      "metadata": {
        "collapsed": false
      },
      "outputs": [
        {
          "name": "stdout",
          "output_type": "stream",
          "text": [
            "# from tvm.script import ir as I\n",
            "# from tvm.script import tir as T\n",
            "\n",
            "@I.ir_module\n",
            "class Module:\n",
            "    @T.prim_func\n",
            "    def main(A: T.Buffer((1024, 1024), \"float32\"), B: T.Buffer((1024, 1024), \"float32\"), C: T.Buffer((1024, 1024), \"float32\")):\n",
            "        T.func_attr({\"from_legacy_te_schedule\": T.bool(True), \"tir.noalias\": T.bool(True)})\n",
            "        for m, n in T.grid(1024, 1024):\n",
            "            C_1 = T.Buffer((1048576,), data=C.data)\n",
            "            C_1[m * 1024 + n] = T.float32(0)\n",
            "            for k in range(1024):\n",
            "                cse_var_2: T.int32 = m * 1024\n",
            "                cse_var_1: T.int32 = cse_var_2 + n\n",
            "                A_1 = T.Buffer((1048576,), data=A.data)\n",
            "                B_1 = T.Buffer((1048576,), data=B.data)\n",
            "                C_1[cse_var_1] = C_1[cse_var_1] + A_1[cse_var_2 + k] * B_1[k * 1024 + n]\n"
          ]
        }
      ],
      "source": [
        "print(tvm.lower(s, [A, B, C], simple_mode=True))"
      ]
    },
    {
      "cell_type": "markdown",
      "metadata": {},
      "source": [
        "## Blocking\n",
        "A important trick to enhance the cache hit rate is blocking --- data chunk will be computed\n",
        "block by block. The memory access inside the block is a small neighbourhood which is with high\n",
        "memory locality. In this tutorial, I picked up 32 as the blocking factor. So the block will\n",
        "fill 32 * 32 * sizeof(float) which is 4KB in the cache whose total size is 32KB (L1 data cache)\n",
        "\n"
      ]
    },
    {
      "cell_type": "code",
      "execution_count": 3,
      "metadata": {
        "collapsed": false
      },
      "outputs": [
        {
          "name": "stdout",
          "output_type": "stream",
          "text": [
            "Opt1: 0.197533\n"
          ]
        }
      ],
      "source": [
        "bn = 32\n",
        "kfactor = 4\n",
        "s = te.create_schedule(C.op)\n",
        "\n",
        "# Blocking by loop tiling\n",
        "mo, no, mi, ni = s[C].tile(C.op.axis[0], C.op.axis[1], bn, bn)\n",
        "(kaxis,) = s[C].op.reduce_axis\n",
        "ko, ki = s[C].split(kaxis, factor=kfactor)\n",
        "\n",
        "# Hoist reduction domain outside the blocking loop\n",
        "s[C].reorder(mo, no, ko, ki, mi, ni)\n",
        "\n",
        "func = tvm.build(s, [A, B, C], target=target, name=\"mmult\")\n",
        "assert func\n",
        "\n",
        "c = tvm.nd.array(numpy.zeros((M, N), dtype=dtype), dev)\n",
        "func(a, b, c)\n",
        "tvm.testing.assert_allclose(c.numpy(), answer, rtol=1e-5)\n",
        "\n",
        "# By simply tiling the loop 32x32, and hoisting ko, ki outside the blocking loops,\n",
        "# we can see big speedup compared with the baseline.\n",
        "evaluator = func.time_evaluator(func.entry_name, dev, number=10)\n",
        "print(\"Opt1: %f\" % evaluator(a, b, c).mean)"
      ]
    },
    {
      "cell_type": "markdown",
      "metadata": {},
      "source": [
        "Here is the generated IR after blocking.\n",
        "\n"
      ]
    },
    {
      "cell_type": "code",
      "execution_count": 4,
      "metadata": {
        "collapsed": false
      },
      "outputs": [
        {
          "name": "stdout",
          "output_type": "stream",
          "text": [
            "# from tvm.script import ir as I\n",
            "# from tvm.script import tir as T\n",
            "\n",
            "@I.ir_module\n",
            "class Module:\n",
            "    @T.prim_func\n",
            "    def main(A: T.Buffer((1024, 1024), \"float32\"), B: T.Buffer((1024, 1024), \"float32\"), C: T.Buffer((1024, 1024), \"float32\")):\n",
            "        T.func_attr({\"from_legacy_te_schedule\": T.bool(True), \"tir.noalias\": T.bool(True)})\n",
            "        for m_outer, n_outer in T.grid(32, 32):\n",
            "            C_1 = T.Buffer((1048576,), data=C.data)\n",
            "            for m_inner_init, n_inner_init in T.grid(32, 32):\n",
            "                C_1[m_outer * 32768 + m_inner_init * 1024 + n_outer * 32 + n_inner_init] = T.float32(0)\n",
            "            for k_outer, k_inner, m_inner, n_inner in T.grid(256, 4, 32, 32):\n",
            "                cse_var_3: T.int32 = n_outer * 32\n",
            "                cse_var_2: T.int32 = m_outer * 32768 + m_inner * 1024\n",
            "                cse_var_1: T.int32 = cse_var_2 + cse_var_3 + n_inner\n",
            "                A_1 = T.Buffer((1048576,), data=A.data)\n",
            "                B_1 = T.Buffer((1048576,), data=B.data)\n",
            "                C_1[cse_var_1] = C_1[cse_var_1] + A_1[cse_var_2 + k_outer * 4 + k_inner] * B_1[k_outer * 4096 + k_inner * 1024 + cse_var_3 + n_inner]\n"
          ]
        }
      ],
      "source": [
        "print(tvm.lower(s, [A, B, C], simple_mode=True))"
      ]
    },
    {
      "cell_type": "markdown",
      "metadata": {},
      "source": [
        "## Vectorization\n",
        "Another important trick is vectorization. When the memory access pattern is uniform,\n",
        "the compiler can detect this pattern and pass the continuous memory to vector processor. In TVM,\n",
        "we can use `vectorize` interface to hint the compiler this pattern, so that we can accelerate it\n",
        "vastly.\n",
        "\n",
        "In this tutorial, we chose to vectorize the inner loop row data since it is cache friendly.\n",
        "\n"
      ]
    },
    {
      "cell_type": "code",
      "execution_count": 5,
      "metadata": {
        "collapsed": false
      },
      "outputs": [
        {
          "name": "stdout",
          "output_type": "stream",
          "text": [
            "Opt2: 0.208917\n"
          ]
        }
      ],
      "source": [
        "s = te.create_schedule(C.op)\n",
        "mo, no, mi, ni = s[C].tile(C.op.axis[0], C.op.axis[1], bn, bn)\n",
        "(kaxis,) = s[C].op.reduce_axis\n",
        "ko, ki = s[C].split(kaxis, factor=kfactor)\n",
        "\n",
        "s[C].reorder(mo, no, ko, ki, mi, ni)\n",
        "\n",
        "# Vectorization\n",
        "s[C].vectorize(ni)\n",
        "\n",
        "func = tvm.build(s, [A, B, C], target=target, name=\"mmult\")\n",
        "assert func\n",
        "\n",
        "c = tvm.nd.array(numpy.zeros((M, N), dtype=dtype), dev)\n",
        "func(a, b, c)\n",
        "tvm.testing.assert_allclose(c.numpy(), answer, rtol=1e-5)\n",
        "\n",
        "evaluator = func.time_evaluator(func.entry_name, dev, number=10)\n",
        "print(\"Opt2: %f\" % evaluator(a, b, c).mean)"
      ]
    },
    {
      "cell_type": "markdown",
      "metadata": {},
      "source": [
        "Here is the generated IR after vectorization.\n",
        "\n"
      ]
    },
    {
      "cell_type": "code",
      "execution_count": 6,
      "metadata": {
        "collapsed": false
      },
      "outputs": [
        {
          "name": "stdout",
          "output_type": "stream",
          "text": [
            "# from tvm.script import ir as I\n",
            "# from tvm.script import tir as T\n",
            "\n",
            "@I.ir_module\n",
            "class Module:\n",
            "    @T.prim_func\n",
            "    def main(A: T.Buffer((1024, 1024), \"float32\"), B: T.Buffer((1024, 1024), \"float32\"), C: T.Buffer((1024, 1024), \"float32\")):\n",
            "        T.func_attr({\"from_legacy_te_schedule\": T.bool(True), \"tir.noalias\": T.bool(True)})\n",
            "        for m_outer, n_outer in T.grid(32, 32):\n",
            "            C_1 = T.Buffer((1048576,), data=C.data)\n",
            "            for m_inner_init in range(32):\n",
            "                C_1[m_outer * 32768 + m_inner_init * 1024 + n_outer * 32:m_outer * 32768 + m_inner_init * 1024 + n_outer * 32 + 32] = T.Broadcast(T.float32(0), 32)\n",
            "            for k_outer, k_inner, m_inner in T.grid(256, 4, 32):\n",
            "                cse_var_3: T.int32 = n_outer * 32\n",
            "                cse_var_2: T.int32 = m_outer * 32768 + m_inner * 1024\n",
            "                cse_var_1: T.int32 = cse_var_2 + cse_var_3\n",
            "                A_1 = T.Buffer((1048576,), data=A.data)\n",
            "                B_1 = T.Buffer((1048576,), data=B.data)\n",
            "                C_1[cse_var_1:cse_var_1 + 32] = C_1[cse_var_1:cse_var_1 + 32] + T.Broadcast(A_1[cse_var_2 + k_outer * 4 + k_inner], 32) * B_1[k_outer * 4096 + k_inner * 1024 + cse_var_3:k_outer * 4096 + k_inner * 1024 + cse_var_3 + 32]\n"
          ]
        }
      ],
      "source": [
        "print(tvm.lower(s, [A, B, C], simple_mode=True))"
      ]
    },
    {
      "cell_type": "markdown",
      "metadata": {},
      "source": [
        "## Loop Permutation\n",
        "If we look at the above IR, we can see the inner loop row data is vectorized for both B and C.\n",
        "Next we will look at the access pattern of A. In current schedule, A is accessed column by column\n",
        "which is not cache friendly. If we change the nested loop order of ki and inner axes mi,\n",
        "the access pattern for A matrix is more cache friendly.\n",
        "\n"
      ]
    },
    {
      "cell_type": "code",
      "execution_count": 7,
      "metadata": {
        "collapsed": false
      },
      "outputs": [
        {
          "name": "stdout",
          "output_type": "stream",
          "text": [
            "Opt3: 0.116860\n"
          ]
        }
      ],
      "source": [
        "s = te.create_schedule(C.op)\n",
        "mo, no, mi, ni = s[C].tile(C.op.axis[0], C.op.axis[1], bn, bn)\n",
        "(kaxis,) = s[C].op.reduce_axis\n",
        "ko, ki = s[C].split(kaxis, factor=kfactor)\n",
        "\n",
        "# re-ordering\n",
        "s[C].reorder(mo, no, ko, mi, ki, ni)\n",
        "s[C].vectorize(ni)\n",
        "\n",
        "func = tvm.build(s, [A, B, C], target=target, name=\"mmult\")\n",
        "assert func\n",
        "\n",
        "c = tvm.nd.array(numpy.zeros((M, N), dtype=dtype), dev)\n",
        "func(a, b, c)\n",
        "tvm.testing.assert_allclose(c.numpy(), answer, rtol=1e-5)\n",
        "\n",
        "evaluator = func.time_evaluator(func.entry_name, dev, number=10)\n",
        "print(\"Opt3: %f\" % evaluator(a, b, c).mean)"
      ]
    },
    {
      "cell_type": "markdown",
      "metadata": {},
      "source": [
        "Here is the generated IR after loop permutation.\n",
        "\n"
      ]
    },
    {
      "cell_type": "code",
      "execution_count": null,
      "metadata": {
        "collapsed": false
      },
      "outputs": [],
      "source": [
        "print(tvm.lower(s, [A, B, C], simple_mode=True))"
      ]
    },
    {
      "cell_type": "markdown",
      "metadata": {},
      "source": [
        "## Array Packing\n",
        "Another important trick is array packing. The trick is to reorder the storage of a multi-\n",
        "dimensional array so that it is accessed sequentially after it is flattened and stored in one-\n",
        "dimensional memory.\n",
        "\n",
        "<img src=\"https://github.com/dmlc/web-data/raw/main/tvm/tutorial/array-packing.png\" align=\"center\">\n",
        "\n",
        "NOTE: This figure is a general illustration of how array packing works.\n",
        "\n"
      ]
    },
    {
      "cell_type": "markdown",
      "metadata": {},
      "source": [
        "We can use array packing to address the access pattern for B. Observe the array access pattern of\n",
        "B after flattening which is not sequential as we iterate over the K dimension. We can reorder B\n",
        "with dimensions [K][N] so that it has dimensions [N/bn][K][bn] where bn is the blocking factor and\n",
        "also the vector size for B in the inner loop.  This reorder splits N into two dimensions ---\n",
        "bigN (N/bn) and littleN (bn) --- and the new dimensions [N/bn][K][bn] match the indexing of B\n",
        "from outer to inner loops (no, ko, ki, ni) resulting in a sequential access pattern for B after\n",
        "flattening.\n",
        "\n"
      ]
    },
    {
      "cell_type": "code",
      "execution_count": 8,
      "metadata": {
        "collapsed": false
      },
      "outputs": [
        {
          "name": "stdout",
          "output_type": "stream",
          "text": [
            "Opt4: 0.146730\n"
          ]
        }
      ],
      "source": [
        "# We have to re-write the algorithm slightly.\n",
        "packedB = te.compute(\n",
        "    (N / bn, K, bn), lambda bigN, k, littleN: B[k, bigN * bn + littleN], name=\"packedB\"\n",
        ")\n",
        "C = te.compute(\n",
        "    (M, N),\n",
        "    lambda m, n: te.sum(A[m, k] * packedB[n // bn, k, tvm.tir.indexmod(n, bn)], axis=k),\n",
        "    name=\"C\",\n",
        ")\n",
        "\n",
        "s = te.create_schedule(C.op)\n",
        "\n",
        "mo, no, mi, ni = s[C].tile(C.op.axis[0], C.op.axis[1], bn, bn)\n",
        "(kaxis,) = s[C].op.reduce_axis\n",
        "ko, ki = s[C].split(kaxis, factor=kfactor)\n",
        "\n",
        "s[C].reorder(mo, no, ko, mi, ki, ni)\n",
        "s[C].vectorize(ni)\n",
        "\n",
        "bigN, _, littleN = s[packedB].op.axis\n",
        "s[packedB].vectorize(littleN)\n",
        "s[packedB].parallel(bigN)\n",
        "\n",
        "func = tvm.build(s, [A, B, C], target=target, name=\"mmult\")\n",
        "assert func\n",
        "\n",
        "c = tvm.nd.array(numpy.zeros((M, N), dtype=dtype), dev)\n",
        "func(a, b, c)\n",
        "tvm.testing.assert_allclose(c.numpy(), answer, rtol=1e-5)\n",
        "\n",
        "evaluator = func.time_evaluator(func.entry_name, dev, number=10)\n",
        "print(\"Opt4: %f\" % evaluator(a, b, c).mean)"
      ]
    },
    {
      "cell_type": "markdown",
      "metadata": {},
      "source": [
        "Here is the generated IR after array packing.\n",
        "\n"
      ]
    },
    {
      "cell_type": "code",
      "execution_count": 9,
      "metadata": {
        "collapsed": false
      },
      "outputs": [
        {
          "name": "stdout",
          "output_type": "stream",
          "text": [
            "# from tvm.script import ir as I\n",
            "# from tvm.script import tir as T\n",
            "\n",
            "@I.ir_module\n",
            "class Module:\n",
            "    @T.prim_func\n",
            "    def main(A: T.Buffer((1024, 1024), \"float32\"), B: T.Buffer((1024, 1024), \"float32\"), C: T.Buffer((1024, 1024), \"float32\")):\n",
            "        T.func_attr({\"from_legacy_te_schedule\": T.bool(True), \"tir.noalias\": T.bool(True)})\n",
            "        packedB = T.allocate([32768], \"float32x32\", \"global\")\n",
            "        packedB_1 = T.Buffer((32768,), \"float32x32\", data=packedB)\n",
            "        for bigN in T.parallel(32):\n",
            "            for k in range(1024):\n",
            "                B_1 = T.Buffer((1048576,), data=B.data)\n",
            "                packedB_1[bigN * 1024 + k] = B_1[k * 1024 + bigN * 32:k * 1024 + bigN * 32 + 32]\n",
            "        for m_outer, n_outer in T.grid(32, 32):\n",
            "            C_1 = T.Buffer((1048576,), data=C.data)\n",
            "            for m_inner_init in range(32):\n",
            "                C_1[m_outer * 32768 + m_inner_init * 1024 + n_outer * 32:m_outer * 32768 + m_inner_init * 1024 + n_outer * 32 + 32] = T.Broadcast(T.float32(0), 32)\n",
            "            for k_outer, m_inner, k_inner in T.grid(256, 32, 4):\n",
            "                cse_var_3: T.int32 = m_outer * 32768 + m_inner * 1024\n",
            "                cse_var_2: T.int32 = k_outer * 4\n",
            "                cse_var_1: T.int32 = cse_var_3 + n_outer * 32\n",
            "                A_1 = T.Buffer((1048576,), data=A.data)\n",
            "                C_1[cse_var_1:cse_var_1 + 32] = C_1[cse_var_1:cse_var_1 + 32] + T.Broadcast(A_1[cse_var_3 + cse_var_2 + k_inner], 32) * packedB_1[n_outer * 1024 + cse_var_2 + k_inner]\n"
          ]
        }
      ],
      "source": [
        "print(tvm.lower(s, [A, B, C], simple_mode=True))"
      ]
    },
    {
      "cell_type": "markdown",
      "metadata": {},
      "source": [
        "## Write cache for blocks\n",
        "After blocking, the program will write result to C block by block, the access pattern\n",
        "is not sequential. So we can use a sequential cache array to hold the block results and\n",
        "write to C when all the block results are ready.\n",
        "\n",
        "\n"
      ]
    },
    {
      "cell_type": "code",
      "execution_count": 10,
      "metadata": {
        "collapsed": false
      },
      "outputs": [
        {
          "name": "stdout",
          "output_type": "stream",
          "text": [
            "Opt5: 0.136876\n"
          ]
        }
      ],
      "source": [
        "s = te.create_schedule(C.op)\n",
        "\n",
        "# Allocate write cache\n",
        "CC = s.cache_write(C, \"global\")\n",
        "\n",
        "mo, no, mi, ni = s[C].tile(C.op.axis[0], C.op.axis[1], bn, bn)\n",
        "\n",
        "# Write cache is computed at no\n",
        "s[CC].compute_at(s[C], no)\n",
        "\n",
        "# New inner axes\n",
        "mc, nc = s[CC].op.axis\n",
        "\n",
        "(kaxis,) = s[CC].op.reduce_axis\n",
        "ko, ki = s[CC].split(kaxis, factor=kfactor)\n",
        "s[CC].reorder(ko, mc, ki, nc)\n",
        "s[CC].vectorize(nc)\n",
        "\n",
        "# TODO: Add separate optimization step to discuss loop unrolling\n",
        "# unrolling is a loop optimization strategy which can reduce branch\n",
        "# prediction failures and increases the chance of concurrent execution\n",
        "# unroll kfactor loops\n",
        "s[CC].unroll(ki)\n",
        "\n",
        "bigN, _, littleN = s[packedB].op.axis\n",
        "s[packedB].vectorize(littleN)\n",
        "s[packedB].parallel(bigN)\n",
        "\n",
        "func = tvm.build(s, [A, B, C], target=target, name=\"mmult\")\n",
        "assert func\n",
        "\n",
        "c = tvm.nd.array(numpy.zeros((M, N), dtype=dtype), dev)\n",
        "func(a, b, c)\n",
        "tvm.testing.assert_allclose(c.numpy(), answer, rtol=1e-5)\n",
        "\n",
        "evaluator = func.time_evaluator(func.entry_name, dev, number=10)\n",
        "print(\"Opt5: %f\" % evaluator(a, b, c).mean)"
      ]
    },
    {
      "cell_type": "markdown",
      "metadata": {},
      "source": [
        "Here is the generated IR after blocking.\n",
        "\n"
      ]
    },
    {
      "cell_type": "code",
      "execution_count": 11,
      "metadata": {
        "collapsed": false
      },
      "outputs": [
        {
          "name": "stdout",
          "output_type": "stream",
          "text": [
            "# from tvm.script import ir as I\n",
            "# from tvm.script import tir as T\n",
            "\n",
            "@I.ir_module\n",
            "class Module:\n",
            "    @T.prim_func\n",
            "    def main(A: T.Buffer((1024, 1024), \"float32\"), B: T.Buffer((1024, 1024), \"float32\"), C: T.Buffer((1024, 1024), \"float32\")):\n",
            "        T.func_attr({\"from_legacy_te_schedule\": T.bool(True), \"tir.noalias\": T.bool(True)})\n",
            "        packedB = T.allocate([32768], \"float32x32\", \"global\")\n",
            "        C_global = T.allocate([1024], \"float32\", \"global\")\n",
            "        packedB_1 = T.Buffer((32768,), \"float32x32\", data=packedB)\n",
            "        for bigN in T.parallel(32):\n",
            "            for k in range(1024):\n",
            "                B_1 = T.Buffer((1048576,), data=B.data)\n",
            "                packedB_1[bigN * 1024 + k] = B_1[k * 1024 + bigN * 32:k * 1024 + bigN * 32 + 32]\n",
            "        for m_outer, n_outer in T.grid(32, 32):\n",
            "            C_global_1 = T.Buffer((1024,), data=C_global)\n",
            "            for m_c_init in range(32):\n",
            "                C_global_1[m_c_init * 32:m_c_init * 32 + 32] = T.Broadcast(T.float32(0), 32)\n",
            "            for k_outer, m_c in T.grid(256, 32):\n",
            "                cse_var_4: T.int32 = k_outer * 4\n",
            "                cse_var_3: T.int32 = m_c * 32\n",
            "                cse_var_2: T.int32 = n_outer * 1024 + cse_var_4\n",
            "                cse_var_1: T.int32 = m_outer * 32768 + m_c * 1024 + cse_var_4\n",
            "                A_1 = T.Buffer((1048576,), data=A.data)\n",
            "                C_global_1[cse_var_3:cse_var_3 + 32] = C_global_1[cse_var_3:cse_var_3 + 32] + T.Broadcast(A_1[cse_var_1], 32) * packedB_1[cse_var_2]\n",
            "                C_global_1[cse_var_3:cse_var_3 + 32] = C_global_1[cse_var_3:cse_var_3 + 32] + T.Broadcast(A_1[cse_var_1 + 1], 32) * packedB_1[cse_var_2 + 1]\n",
            "                C_global_1[cse_var_3:cse_var_3 + 32] = C_global_1[cse_var_3:cse_var_3 + 32] + T.Broadcast(A_1[cse_var_1 + 2], 32) * packedB_1[cse_var_2 + 2]\n",
            "                C_global_1[cse_var_3:cse_var_3 + 32] = C_global_1[cse_var_3:cse_var_3 + 32] + T.Broadcast(A_1[cse_var_1 + 3], 32) * packedB_1[cse_var_2 + 3]\n",
            "            for m_inner, n_inner in T.grid(32, 32):\n",
            "                C_1 = T.Buffer((1048576,), data=C.data)\n",
            "                C_1[m_outer * 32768 + m_inner * 1024 + n_outer * 32 + n_inner] = C_global_1[m_inner * 32 + n_inner]\n"
          ]
        }
      ],
      "source": [
        "print(tvm.lower(s, [A, B, C], simple_mode=True))"
      ]
    },
    {
      "cell_type": "markdown",
      "metadata": {},
      "source": [
        "## Parallel\n",
        "Furthermore, we can also utilize multi-core processors to do the thread-level parallelization.\n",
        "\n"
      ]
    },
    {
      "cell_type": "code",
      "execution_count": 12,
      "metadata": {
        "collapsed": false
      },
      "outputs": [
        {
          "name": "stdout",
          "output_type": "stream",
          "text": [
            "Opt6: 0.018290\n"
          ]
        }
      ],
      "source": [
        "s = te.create_schedule(C.op)\n",
        "\n",
        "CC = s.cache_write(C, \"global\")\n",
        "\n",
        "mo, no, mi, ni = s[C].tile(C.op.axis[0], C.op.axis[1], bn, bn)\n",
        "\n",
        "s[CC].compute_at(s[C], no)\n",
        "\n",
        "mc, nc = s[CC].op.axis\n",
        "\n",
        "(kaxis,) = s[CC].op.reduce_axis\n",
        "ko, ki = s[CC].split(kaxis, factor=kfactor)\n",
        "s[CC].reorder(ko, mc, ki, nc)\n",
        "s[CC].vectorize(nc)\n",
        "s[CC].unroll(ki)\n",
        "\n",
        "# parallel\n",
        "s[C].parallel(mo)\n",
        "\n",
        "bigN, _, littleN = s[packedB].op.axis\n",
        "s[packedB].vectorize(littleN)\n",
        "s[packedB].parallel(bigN)\n",
        "\n",
        "func = tvm.build(s, [A, B, C], target=target, name=\"mmult\")\n",
        "assert func\n",
        "\n",
        "c = tvm.nd.array(numpy.zeros((M, N), dtype=dtype), dev)\n",
        "func(a, b, c)\n",
        "tvm.testing.assert_allclose(c.numpy(), answer, rtol=1e-5)\n",
        "\n",
        "evaluator = func.time_evaluator(func.entry_name, dev, number=50)\n",
        "opt6_time = evaluator(a, b, c).mean\n",
        "print(\"Opt6: %f\" % opt6_time)"
      ]
    },
    {
      "cell_type": "markdown",
      "metadata": {},
      "source": [
        "Here is the generated IR after parallelization.\n",
        "\n"
      ]
    },
    {
      "cell_type": "code",
      "execution_count": 13,
      "metadata": {
        "collapsed": false
      },
      "outputs": [
        {
          "name": "stdout",
          "output_type": "stream",
          "text": [
            "# from tvm.script import ir as I\n",
            "# from tvm.script import tir as T\n",
            "\n",
            "@I.ir_module\n",
            "class Module:\n",
            "    @T.prim_func\n",
            "    def main(A: T.Buffer((1024, 1024), \"float32\"), B: T.Buffer((1024, 1024), \"float32\"), C: T.Buffer((1024, 1024), \"float32\")):\n",
            "        T.func_attr({\"from_legacy_te_schedule\": T.bool(True), \"tir.noalias\": T.bool(True)})\n",
            "        packedB = T.allocate([32768], \"float32x32\", \"global\")\n",
            "        packedB_1 = T.Buffer((32768,), \"float32x32\", data=packedB)\n",
            "        for bigN in T.parallel(32):\n",
            "            for k in range(1024):\n",
            "                B_1 = T.Buffer((1048576,), data=B.data)\n",
            "                packedB_1[bigN * 1024 + k] = B_1[k * 1024 + bigN * 32:k * 1024 + bigN * 32 + 32]\n",
            "        for m_outer in T.parallel(32):\n",
            "            C_global = T.allocate([1024], \"float32\", \"global\")\n",
            "            for n_outer in range(32):\n",
            "                C_global_1 = T.Buffer((1024,), data=C_global)\n",
            "                for m_c_init in range(32):\n",
            "                    C_global_1[m_c_init * 32:m_c_init * 32 + 32] = T.Broadcast(T.float32(0), 32)\n",
            "                for k_outer, m_c in T.grid(256, 32):\n",
            "                    cse_var_4: T.int32 = k_outer * 4\n",
            "                    cse_var_3: T.int32 = m_c * 32\n",
            "                    cse_var_2: T.int32 = n_outer * 1024 + cse_var_4\n",
            "                    cse_var_1: T.int32 = m_outer * 32768 + m_c * 1024 + cse_var_4\n",
            "                    A_1 = T.Buffer((1048576,), data=A.data)\n",
            "                    C_global_1[cse_var_3:cse_var_3 + 32] = C_global_1[cse_var_3:cse_var_3 + 32] + T.Broadcast(A_1[cse_var_1], 32) * packedB_1[cse_var_2]\n",
            "                    C_global_1[cse_var_3:cse_var_3 + 32] = C_global_1[cse_var_3:cse_var_3 + 32] + T.Broadcast(A_1[cse_var_1 + 1], 32) * packedB_1[cse_var_2 + 1]\n",
            "                    C_global_1[cse_var_3:cse_var_3 + 32] = C_global_1[cse_var_3:cse_var_3 + 32] + T.Broadcast(A_1[cse_var_1 + 2], 32) * packedB_1[cse_var_2 + 2]\n",
            "                    C_global_1[cse_var_3:cse_var_3 + 32] = C_global_1[cse_var_3:cse_var_3 + 32] + T.Broadcast(A_1[cse_var_1 + 3], 32) * packedB_1[cse_var_2 + 3]\n",
            "                for m_inner, n_inner in T.grid(32, 32):\n",
            "                    C_1 = T.Buffer((1048576,), data=C.data)\n",
            "                    C_1[m_outer * 32768 + m_inner * 1024 + n_outer * 32 + n_inner] = C_global_1[m_inner * 32 + n_inner]\n"
          ]
        }
      ],
      "source": [
        "print(tvm.lower(s, [A, B, C], simple_mode=True))"
      ]
    },
    {
      "cell_type": "markdown",
      "metadata": {},
      "source": [
        "## Summary\n",
        "After applying the above simple optimizations with only 18 lines of code,\n",
        "our generated code can achieve 60% of the `numpy` performance with MKL.\n",
        "Note that the outputs on the web page reflect the running times on a non-exclusive\n",
        "Docker container, thereby they are *unreliable*. It is highly encouraged to run the\n",
        "tutorial by yourself to observe the performance gain achieved by TVM.\n",
        "\n"
      ]
    }
  ],
  "metadata": {
    "kernelspec": {
      "display_name": "Python 3",
      "language": "python",
      "name": "python3"
    },
    "language_info": {
      "codemirror_mode": {
        "name": "ipython",
        "version": 3
      },
      "file_extension": ".py",
      "mimetype": "text/x-python",
      "name": "python",
      "nbconvert_exporter": "python",
      "pygments_lexer": "ipython3",
      "version": "3.8.19"
    }
  },
  "nbformat": 4,
  "nbformat_minor": 0
}
